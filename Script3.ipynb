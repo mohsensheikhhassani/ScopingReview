{
 "cells": [
  {
   "cell_type": "code",
   "execution_count": 1,
   "id": "69bdefa6",
   "metadata": {},
   "outputs": [],
   "source": [
    "import pandas as pd\n",
    "import numpy as np\n",
    "import matplotlib.pyplot as plt"
   ]
  },
  {
   "cell_type": "code",
   "execution_count": 2,
   "id": "7a314275",
   "metadata": {},
   "outputs": [],
   "source": [
    "def bucketing(Record_Demographics_dir, Record_Data_Extraction, select, to_be_selected1, to_be_selected2, keyword):\n",
    "    df = pd.read_excel(Record_Demographics_dir, header=[0,1])\n",
    "    df1 = pd.read_excel(Record_Demographics_dir, header=None)\n",
    "    df_prime = pd.read_excel(Record_Data_Extraction, header=[0,1])\n",
    "    df_prime1 = pd.read_excel(Record_Data_Extraction, header=None)\n",
    "    columns2 = [df_prime.columns[i][1] for i in range(df_prime.shape[1])]\n",
    "    columns1 = [df.columns[i][1] for i in range(df.shape[1])]\n",
    "    col_indx = columns2.index(select)\n",
    "    accepted_rows = np.where(df_prime1[col_indx] == 'Yes')\n",
    "    keyword_accepted_column = columns1.index(keyword)\n",
    "    \n",
    "    \n",
    "    \n",
    "    sel_col_indx1 = [columns1.index(to_be) for to_be in to_be_selected1]\n",
    "    sel_col_indx2 = [columns2.index(to_be) for to_be in to_be_selected2]\n",
    "    df1 = np.array(df1)\n",
    "    df_prime1 = np.array(df_prime1)\n",
    "    \n",
    "    desired_data1 = df1[list(accepted_rows)[0]]\n",
    "    desired_data1 = desired_data1[:,sel_col_indx1]\n",
    "    \n",
    "    ##\n",
    "    desired_keyword_data = df1[list(accepted_rows)[0]]\n",
    "    desired_keyword_data = desired_keyword_data[:,keyword_accepted_column]\n",
    "    ##\n",
    "    \n",
    "    desired_data2 = df_prime1[list(accepted_rows)[0]]\n",
    "    desired_data2 = desired_data2[:,sel_col_indx2]\n",
    "\n",
    "    #print(desired_data1, desired_data2)\n",
    "    return desired_data1, desired_data2, desired_keyword_data\n",
    "\n",
    "def excel_creator(to_be_selected1, to_be_selected2, a1, a2, name):\n",
    "    new_data = np.concatenate((a1, a2), axis=1)\n",
    "    new_selected = np.concatenate((to_be_selected1, to_be_selected2))\n",
    "    df = pd.DataFrame({new_selected[j]: list(new_data[:,j]) for j in range(new_data.shape[1])})\n",
    "    \n",
    "    writer = pd.ExcelWriter(\"{}.xlsx\".format(name), engine='xlsxwriter')\n",
    "\n",
    "# Convert the dataframe to an XlsxWriter Excel object. Note that we turn off\n",
    "# the default header and skip one row to allow us to insert a user defined\n",
    "# header.\n",
    "    df.to_excel(writer, sheet_name='Sheet1', startrow=0, header=True)\n",
    "\n",
    "# Get the xlsxwriter workbook and worksheet objects.\n",
    "    workbook  = writer.book\n",
    "    worksheet = writer.sheets['Sheet1']\n",
    "\n",
    "# Add a header format.\n",
    "    header_format = workbook.add_format({\n",
    "        'bold': True,\n",
    "        'text_wrap': True,\n",
    "        'valign': 'top',\n",
    "        'fg_color': '#D7E4BC',\n",
    "        'border': 1})\n",
    "\n",
    "# Write the column headers with the defined format.\n",
    "    for col_num, value in enumerate(df.columns.values):\n",
    "        worksheet.write(0, col_num + 1, value, header_format)\n",
    "\n",
    "# Close the Pandas Excel writer and output the Excel file.\n",
    "    writer.save()\n"
   ]
  },
  {
   "cell_type": "code",
   "execution_count": 3,
   "id": "ed3e3ad7",
   "metadata": {},
   "outputs": [],
   "source": [
    "def excel_creator2(to_be_selected1, to_be_selected2, a1, a2, desired_keyword_data, name):\n",
    "    all_uniques = list(set(desired_keyword_data))\n",
    "    for keyword_indx in range(len(all_uniques)):\n",
    "        \n",
    "        a_new_locations = np.where(desired_keyword_data == all_uniques[keyword_indx])\n",
    "        a_new_locations = list(a_new_locations)[0]\n",
    "        a1_new = a1[a_new_locations,:]\n",
    "        a2_new = a2[a_new_locations,:]\n",
    "        new_data = np.concatenate((a1_new, a2_new), axis=1)\n",
    "        new_selected = np.concatenate((to_be_selected1, to_be_selected2))\n",
    "        df = pd.DataFrame({new_selected[j]: list(new_data[:,j]) for j in range(new_data.shape[1])})\n",
    "\n",
    "        writer = pd.ExcelWriter(\"{}_{}.xlsx\".format(name, all_uniques[keyword_indx]), engine='xlsxwriter')\n",
    "\n",
    "    # Convert the dataframe to an XlsxWriter Excel object. Note that we turn off\n",
    "    # the default header and skip one row to allow us to insert a user defined\n",
    "    # header.\n",
    "        df.to_excel(writer, sheet_name='Sheet1', startrow=0, header=True)\n",
    "\n",
    "    # Get the xlsxwriter workbook and worksheet objects.\n",
    "        workbook  = writer.book\n",
    "        worksheet = writer.sheets['Sheet1']\n",
    "\n",
    "    # Add a header format.\n",
    "        header_format = workbook.add_format({\n",
    "            'bold': True,\n",
    "            'text_wrap': True,\n",
    "            'valign': 'top',\n",
    "            'fg_color': '#D7E4BC',\n",
    "            'border': 1})\n",
    "\n",
    "    # Write the column headers with the defined format.\n",
    "        for col_num, value in enumerate(df.columns.values):\n",
    "            worksheet.write(0, col_num + 1, value, header_format)\n",
    "\n",
    "    # Close the Pandas Excel writer and output the Excel file.\n",
    "        writer.save()\n"
   ]
  },
  {
   "cell_type": "code",
   "execution_count": 4,
   "id": "df21b242",
   "metadata": {},
   "outputs": [],
   "source": [
    "Record_Demographics_dir = \"D:\\\\M.Sheikh\\\\Book2.xlsx\"\n",
    "Record_Data_Extraction = \"D:\\\\M.Sheikh\\\\Book1.xlsx\"\n",
    "select = \"Privacy Mentioned\"\n",
    "to_be_selected1 = [\"Item Number\", \"Corresponding Author\"]\n",
    "to_be_selected2 = [\"Privacy Page \", \"Privacy Text\"]\n",
    "\n",
    "a1, a2, c = bucketing(Record_Demographics_dir, Record_Data_Extraction, select, to_be_selected1, to_be_selected2, 'Corresp. Author (Host Faculty)')\n",
    "len(a1)\n",
    "len(a2)\n",
    "excel_creator(to_be_selected1, to_be_selected2, a1, a2, \"Mohsen\")\n",
    "excel_creator2(to_be_selected1, to_be_selected2, a1, a2, c, \"new_moh\")"
   ]
  },
  {
   "cell_type": "code",
   "execution_count": 20,
   "id": "3d75aba4",
   "metadata": {},
   "outputs": [],
   "source": [
    "import docx\n",
    "def word_convertor(excel_file, save_name):\n",
    "    df = pd.read_excel(excel_file, header=[0])\n",
    "    columns1 = [df.columns[i] for i in range(df.shape[1])]\n",
    "    columns1 = columns1[1:]\n",
    "    doc = docx.Document()\n",
    "    df = np.array(df)\n",
    "    for sample in range(df.shape[0]):\n",
    "        new_paragraph = ''\n",
    "        for i, header in enumerate(columns1):\n",
    "            new_paragraph = new_paragraph + header + ': ' + str(df[sample, i+1]) + \"        \"\n",
    "        doc.add_paragraph(new_paragraph)\n",
    "\n",
    "    doc.save(save_name)"
   ]
  },
  {
   "cell_type": "code",
   "execution_count": 21,
   "id": "cd6f7040",
   "metadata": {},
   "outputs": [],
   "source": [
    "word_convertor(\"new_moh_Pharmacy.xlsx\", 'm_new.docx')"
   ]
  },
  {
   "cell_type": "code",
   "execution_count": 22,
   "id": "cd12d673",
   "metadata": {},
   "outputs": [
    {
     "data": {
      "image/png": "[encoded data removed]",
      "text/plain": [
       "<Figure size 432x288 with 1 Axes>"
      ]
     },
     "metadata": {
      "needs_background": "light"
     },
     "output_type": "display_data"
    }
   ],
   "source": [
    "select = \"Cybersecurity Mentioned\"\n",
    "group_selection = [\"Privacy Mentioned\", \"Cybersecurity Mentioned\"]\n",
    "df = pd.read_excel(\"D:\\\\M.Sheikh\\\\Book1.xlsx\", header=[0,1])\n",
    "df1 = pd.read_excel(\"D:\\\\M.Sheikh\\\\Book1.xlsx\", header=None)\n",
    "df_prime = pd.read_excel(\"D:\\\\M.Sheikh\\\\Book2.xlsx\", header=[0,1])\n",
    "df_prime1 = pd.read_excel(\"D:\\\\M.Sheikh\\\\Book2.xlsx\", header=None)\n",
    "columns2 = [df_prime.columns[i][1] for i in range(df_prime.shape[1])]\n",
    "columns1 = [df.columns[i][1] for i in range(df.shape[1])]\n",
    "col_indx = columns1.index(select)\n",
    "accepted_rows = np.where(df1[col_indx] == 'Yes')\n",
    "#keyword_accepted_column = columns1.index(keyword)\n",
    "n_total_accepted = len(accepted_rows[0])\n",
    "\n",
    "n_total_accepted = []\n",
    "for selected in group_selection:\n",
    "    \n",
    "    col_indx = columns1.index(selected)\n",
    "    accepted_rows = np.where(df1[col_indx] == 'Yes')\n",
    "    n_total_accepted.append(len(accepted_rows[0]))\n",
    "    \n",
    "%matplotlib inline\n",
    "fig = plt.figure()\n",
    "ax = fig.add_axes([0,0,1,1])\n",
    "ax.bar(group_selection,n_total_accepted)\n",
    "plt.show()"
   ]
  },
  {
   "cell_type": "code",
   "execution_count": 8,
   "id": "9387283d",
   "metadata": {},
   "outputs": [],
   "source": [
    "# If you want to get the bar plots based on disciplines change selected_discipline to None\n",
    "# group_selection is the disciplines to be shown\n",
    "# If you define the selected_discipline, you need to define column_name too. column_name is the column that\n",
    "# we want to find number of repeats in it.\n",
    "def bucketing(Record_Data_Extraction, Record_Demographics_dir, saved_fig_name, group_selection = None, selected_discipline = None, column_name = None):\n",
    "    df = pd.read_excel(\"D:\\\\M.Sheikh\\\\Book1.xlsx\", header=[0,1])\n",
    "    df1 = pd.read_excel(\"D:\\\\M.Sheikh\\\\Book1.xlsx\", header=None)\n",
    "    df_prime = pd.read_excel(\"D:\\\\M.Sheikh\\\\Book2.xlsx\", header=[0,1])\n",
    "    df_prime1 = pd.read_excel(\"D:\\\\M.Sheikh\\\\Book2.xlsx\", header=None)\n",
    "    columns2 = [df_prime.columns[i][1] for i in range(df_prime.shape[1])]\n",
    "    columns1 = [df.columns[i][1] for i in range(df.shape[1])]\n",
    "    df_prime1 = df_prime1[:][2:]\n",
    "    \n",
    "    if not selected_discipline:\n",
    "        n_total_accepted = []\n",
    "        for selected in group_selection:\n",
    "\n",
    "            col_indx = columns1.index(selected)\n",
    "            accepted_rows = np.where(df1[col_indx] == 'Yes')\n",
    "            n_total_accepted.append(len(accepted_rows[0]))\n",
    "            \n",
    "        names = group_selection\n",
    "        values = n_total_accepted\n",
    "    \n",
    "    if selected_discipline:\n",
    "        \n",
    "        col_indx = columns1.index(selected_discipline)\n",
    "        accepted_rows = np.where(df1[col_indx] == 'Yes')\n",
    "        \n",
    "        selected_col = columns2.index(column_name)\n",
    "        df_prime1_new = df_prime1[selected_col][accepted_rows[0]]\n",
    "        all_uniques = list(set(df_prime1_new))\n",
    "        \n",
    "        n_total_accepted = []\n",
    "        for selected in all_uniques:\n",
    "            new_accepted_rows = np.where(df_prime1_new == selected)\n",
    "        \n",
    "            n_total_accepted.append(len(new_accepted_rows[0]))\n",
    "        \n",
    "        names = all_uniques\n",
    "        values = n_total_accepted\n",
    "    \n",
    "    %matplotlib inline\n",
    "    fig = plt.figure(figsize=(17, 7))\n",
    "    ax = fig.add_axes([0,0,1,1])\n",
    "    ax.barh(names, values)\n",
    "    plt.savefig(saved_fig_name, bbox_inches='tight')\n",
    "    plt.show()\n",
    "    \n",
    "    final_dict = {}\n",
    "    for idx, name in enumerate(names):\n",
    "        final_dict[name] = values[idx] \n",
    "    return final_dict"
   ]
  },
  {
   "cell_type": "code",
   "execution_count": 9,
   "id": "65e43fa6",
   "metadata": {},
   "outputs": [
    {
     "data": {
      "image/png": "[encoded data removed]",
      "text/plain": [
       "<Figure size 1224x504 with 1 Axes>"
      ]
     },
     "metadata": {
      "needs_background": "light"
     },
     "output_type": "display_data"
    }
   ],
   "source": [
    "Record_Demographics_dir = \"D:\\\\M.Sheikh\\\\Book2.xlsx\"\n",
    "Record_Data_Extraction = \"D:\\\\M.Sheikh\\\\Book1.xlsx\"\n",
    "saved_fig_name = \"x.jpg\"\n",
    "group_selection = None\n",
    "selected_discipline = \"Privacy Mentioned\"\n",
    "column_name = \"Corresp. Author (Host Faculty)\"\n",
    "a = bucketing(Record_Data_Extraction, Record_Demographics_dir, saved_fig_name, group_selection = None, selected_discipline = selected_discipline, column_name = column_name)"
   ]
  },
  {
   "cell_type": "code",
   "execution_count": null,
   "id": "51d86a60",
   "metadata": {},
   "outputs": [],
   "source": []
  }
 ],
 "metadata": {
  "kernelspec": {
   "display_name": "ALL",
   "language": "python",
   "name": "all"
  },
  "language_info": {
   "codemirror_mode": {
    "name": "ipython",
    "version": 3
   },
   "file_extension": ".py",
   "mimetype": "text/x-python",
   "name": "python",
   "nbconvert_exporter": "python",
   "pygments_lexer": "ipython3",
   "version": "3.9.7"
  }
 },
 "nbformat": 4,
 "nbformat_minor": 5
}
