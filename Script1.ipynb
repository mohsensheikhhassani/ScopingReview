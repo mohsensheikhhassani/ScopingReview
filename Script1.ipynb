{
 "cells": [
  {
   "cell_type": "code",
   "execution_count": 13,
   "id": "6f196029",
   "metadata": {},
   "outputs": [
    {
     "data": {
      "text/plain": [
       "49"
      ]
     },
     "execution_count": 13,
     "metadata": {},
     "output_type": "execute_result"
    }
   ],
   "source": [
    "len(indices[0])"
   ]
  },
  {
   "cell_type": "code",
   "execution_count": 17,
   "id": "2b4cb326",
   "metadata": {},
   "outputs": [],
   "source": [
    "import pandas as pd\n",
    "import numpy as np\n",
    "import math\n",
    "import docx\n",
    "\n",
    "Record_Demographics_dir = \"D:\\\\M.Sheikh\\\\Book2.xlsx\"\n",
    "Record_Data_Extraction = \"D:\\\\M.Sheikh\\\\Book1.xlsx\"\n",
    "select = \"Is there a proposed solution?\"\n",
    "to_be_selected1 = [\"Item Number\", \"Corresponding Author\", \"Year of Publication\", \"Article Title\", \"Journal Name\", \"Corresp. Author (Host Faculty)\"]\n",
    "to_be_selected2 = ['Privacy Page ', 'Privacy Text']\n",
    "    \n",
    "keyword = \"Solution 1\"\n",
    "\n",
    "\n",
    "    \n",
    "df = pd.read_excel(Record_Demographics_dir, header=[0,1])\n",
    "df1 = pd.read_excel(Record_Demographics_dir, header=None)\n",
    "df_prime = pd.read_excel(Record_Data_Extraction, header=[0,1])\n",
    "df_prime1 = pd.read_excel(Record_Data_Extraction, header=None)\n",
    "columns2 = [df_prime.columns[i][1] for i in range(df_prime.shape[1])]\n",
    "columns1 = [df.columns[i][1] for i in range(df.shape[1])]\n",
    "col_indx = columns2.index(select)\n",
    "accepted_rows = np.where(df_prime1[col_indx] == 'Yes')\n",
    "###\n",
    "df1 = np.array(df1)\n",
    "df_prime1 = np.array(df_prime1)\n",
    "    \n",
    "new_df1 = df1[accepted_rows]\n",
    "new_df_prime1 = df_prime1[accepted_rows]\n",
    "keyword_accepted_column = columns2.index(keyword)\n",
    "    \n",
    "unique_solutions = list(set(new_df_prime1[:,keyword_accepted_column]))\n",
    "    \n",
    "sel_col_indx1 = [columns1.index(to_be) for to_be in to_be_selected1]\n",
    "sel_col_indx2 = [columns2.index(to_be) for to_be in to_be_selected2]\n",
    "    \n",
    "specify_col = keyword_accepted_column + 1\n",
    "page_col = keyword_accepted_column + 2\n",
    "quotation_col = keyword_accepted_column + 3\n",
    "    \n",
    "specify_col_name = columns2[specify_col]\n",
    "page_col_name = columns2[page_col]\n",
    "quotation_col_name = columns2[quotation_col]\n",
    "    \n",
    "for sol in unique_solutions:\n",
    "        \n",
    "    if sol != sol:\n",
    "        indices = np.argwhere(new_df_prime1[:,keyword_accepted_column]!=new_df_prime1[:,keyword_accepted_column])\n",
    "    else:\n",
    "        indices = np.where(new_df_prime1[:,keyword_accepted_column] == sol)\n",
    "        \n",
    "    sub_total = keyword # an input\n",
    "    sub_total_res = str(sol)\n",
    "        \n",
    "    sub1 = specify_col_name\n",
    "    res1 = new_df_prime1[indices, specify_col]\n",
    "        \n",
    "    sub2 = page_col_name\n",
    "    res2 = new_df_prime1[indices, page_col]\n",
    "        \n",
    "    sub3 = quotation_col_name\n",
    "    res3 = new_df_prime1[indices, quotation_col]\n",
    "        \n",
    "    # Other data:\n",
    "\n",
    "        \n",
    "    doc = docx.Document()\n",
    "        \n",
    "    first_paragraph = keyword + \": \" + str(sub_total_res)\n",
    "        \n",
    "    doc.add_paragraph(first_paragraph)\n",
    "        \n",
    "    for sample in range(len(indices[0])):\n",
    "            \n",
    "        new_paragraph1 = str(sub1) +\": \" + str(res1[0, sample]) + \" \" + str(sub2) + \": \" + str(res2[0, sample]) + \" \" + str(sub3) + \": \" + str(res3[0, sample])\n",
    "            \n",
    "        new_paragraph2 = \"\"\n",
    "            \n",
    "        for sl in to_be_selected1:\n",
    "            selected_col1 = columns1.index(sl)\n",
    "            index_res1 = new_df1[indices[0][sample], selected_col1]\n",
    "                \n",
    "            new_paragraph2 += str(sl) + \": \" + str(index_res1) + \" \"\n",
    "                \n",
    "                \n",
    "        new_paragraph3 = \"\"\n",
    "            \n",
    "        for sl in to_be_selected2:\n",
    "            selected_col2 = columns2.index(sl)\n",
    "            index_res2 = new_df_prime1[indices[0][sample], selected_col2]\n",
    "                \n",
    "            new_paragraph3 += str(sl) + \": \" + str(index_res2) + \" \"\n",
    "              \n",
    "        total_paragraph = new_paragraph3 + \"\\n\" + new_paragraph2 + \"\\n\"  + new_paragraph1 + \"                  End of information                 \"\n",
    "            \n",
    "        doc.add_paragraph(total_paragraph)\n",
    "        \n",
    "    save_name = \"{}_answer_{}.docx\".format(keyword, sol)\n",
    "    doc.save(save_name)\n",
    "            "
   ]
  },
  {
   "cell_type": "code",
   "execution_count": 13,
   "id": "09a9802a",
   "metadata": {},
   "outputs": [
    {
     "data": {
      "text/plain": [
       "0"
      ]
     },
     "execution_count": 13,
     "metadata": {},
     "output_type": "execute_result"
    }
   ],
   "source": [
    "res1[0, sample]"
   ]
  },
  {
   "cell_type": "code",
   "execution_count": 8,
   "id": "e9cb8912",
   "metadata": {},
   "outputs": [
    {
     "data": {
      "text/plain": [
       "'Item Number: #10659 Corresponding Author: Blake VK Privacy Page : 553, 564, 566, 566, 569 Privacy Text: \"Despite their many virtues, care robots could bring some significant drawbacks.\\nThe violation of trust would be intense if a doctor installed a video camera in a patient\\'s\\nhome and watched her change, bathe, or use the bathroom. Equally, there would be\\noutcries if a health care provider came into a patient\\'s home and controlled or recorded\\nwhat food the patient ate or whether she left the house. It would shock the conscience if\\na health care provider shared these types of intimate details of patients\\' lives with people\\nwho have no part in medical care. Patients must trust their providers to keep their secrets\\nand maintain their dignity or autonomy, or they may mislead providers or avoid health\\ncare altogether.1 5 Respect for privacy, confidentiality, and autonomy are thus core tenets\\nof health care, codified in law and codes of ethics.16\"\\n\"Care robots may present serious\\nchallenges to safeguarding patient privacy. Patients value privacy in clinical settings,\\neven sometimes preferring solitude. 110 That is, they prefer having some amount of\\ncontrol over being left alone, having private time with family, as well as keeping some\\ninformation from providers.\" Privacy is associated with a respect for the dignity of the\\npatient. 112 Among a variety of privacy interests are physical privacy (such as personal\\nspace and modesty), associational privacy (maintaining privacy between the patient and\\nher family or friends), and informational privacy (control over one\\'s personal data). 1 1 3\\nPrivacy is distinguished from confidentiality, which Part II.B discusses.\"\"\\n\"Patients and family members may not realize that a robot\\'s senses are superior to\\ntheir own.1 28 Robots with, say, thermal sensors might be able to see through walls or\\nhave superior audio capabilities and be able to pick up quiet conversations. 12 9...A provider may forget an interaction in a few days, but a robot can\\nindefinitely \"remember\" and store the information it gathers, the images it sees, and the\\nstories it hears.13 3\"\\n\"Home life presents even greater challenges. Care robots could record intimate audio\\nor visual data of a person\\'s home and the people in it. 137 They may capture the private\\nhealth behaviors of a patient or family members, such as what and when they eat, how\\nfrequently they get up and move around, and whether they exercise. 138 Highly personal\\nactivities like family disagreements or sexual activity as well as restroom or shower use could all be at the \"fingertips\" of the robot and perhaps stored indefinitely.13 9\"\\n\"Care robot use poses obvious challenges to confidentiality that are akin to other\\nprivacy concerns. Particularly, the unique threat to confidentiality resides in the\\ncapability of care robots to gather high-fidelity, constant information about patients, their\\nfamily members, and the private workings of households. 163 Robots may elicit secrets\\nfrom patients that significantly implicate confidentiality rules.\" '"
      ]
     },
     "execution_count": 8,
     "metadata": {},
     "output_type": "execute_result"
    }
   ],
   "source": [
    "new_paragraph3"
   ]
  },
  {
   "cell_type": "code",
   "execution_count": 14,
   "id": "687ee93c",
   "metadata": {},
   "outputs": [
    {
     "data": {
      "text/plain": [
       "'Solution 3 Page'"
      ]
     },
     "execution_count": 14,
     "metadata": {},
     "output_type": "execute_result"
    }
   ],
   "source": [
    "sub2"
   ]
  },
  {
   "cell_type": "code",
   "execution_count": 35,
   "id": "e96d7563",
   "metadata": {},
   "outputs": [
    {
     "data": {
      "text/plain": [
       "array([  7,  18,  33,  41,  46,  52,  54,  61,  65,  66,  67,  70,  73,\n",
       "        78,  85,  87,  89,  99, 103, 104, 111, 114, 118, 126, 127, 130,\n",
       "       131, 132, 138, 141, 142, 144, 145, 151, 158, 161, 169, 172, 175,\n",
       "       180, 187, 190, 192, 193, 196, 204, 205, 210, 211, 216, 217, 220,\n",
       "       225, 226, 228, 231, 233, 237, 245, 249, 252, 256, 257, 258, 260,\n",
       "       262, 264, 267, 272, 273, 275, 276, 287, 291, 292, 293, 294, 298,\n",
       "       299, 302, 308, 309, 312, 314, 315, 317, 318, 319, 325, 327, 332,\n",
       "       335, 336, 340, 347, 349], dtype=int64)"
      ]
     },
     "execution_count": 35,
     "metadata": {},
     "output_type": "execute_result"
    }
   ],
   "source": [
    "indices[0]"
   ]
  },
  {
   "cell_type": "code",
   "execution_count": null,
   "id": "fd3d8ad6",
   "metadata": {},
   "outputs": [],
   "source": []
  }
 ],
 "metadata": {
  "kernelspec": {
   "display_name": "ALL",
   "language": "python",
   "name": "all"
  },
  "language_info": {
   "codemirror_mode": {
    "name": "ipython",
    "version": 3
   },
   "file_extension": ".py",
   "mimetype": "text/x-python",
   "name": "python",
   "nbconvert_exporter": "python",
   "pygments_lexer": "ipython3",
   "version": "3.9.7"
  }
 },
 "nbformat": 4,
 "nbformat_minor": 5
}
