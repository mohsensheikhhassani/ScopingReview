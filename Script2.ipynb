{
 "cells": [
  {
   "cell_type": "code",
   "execution_count": 8,
   "id": "5db72403",
   "metadata": {},
   "outputs": [],
   "source": [
    "import pandas as pd\n",
    "import numpy as np\n",
    "import math\n",
    "import docx"
   ]
  },
  {
   "cell_type": "code",
   "execution_count": 9,
   "id": "4a28e451",
   "metadata": {},
   "outputs": [],
   "source": [
    "Record_Demographics_dir = \"D:\\\\M.Sheikh\\\\Book2.xlsx\"\n",
    "Record_Data_Extraction = \"D:\\\\M.Sheikh\\\\Book1.xlsx\""
   ]
  },
  {
   "cell_type": "code",
   "execution_count": 10,
   "id": "4a21ce1a",
   "metadata": {},
   "outputs": [],
   "source": [
    "df1_Extraction = pd.read_excel(Record_Data_Extraction, header=None)\n",
    "df1_Extraction = np.array(df1_Extraction)\n",
    "coulmns_Extraction = df1_Extraction[1,:]\n",
    "df1_Extraction = df1_Extraction[2:,:]\n",
    "selected_column1 = np.where(coulmns_Extraction == \"Is there a proposed solution?\")\n",
    "selected_rows1 = np.where(df1_Extraction[:,selected_column1[0][0]] == \"Yes\")\n",
    "selected_Extraction = df1_Extraction[selected_rows1[0],:]\n",
    "\n",
    "df1_demo = pd.read_excel(Record_Demographics_dir, header=None)\n",
    "df1_demo = np.array(df1_demo)\n",
    "coulmns_demo = df1_demo[1,:]\n",
    "df1_demo = df1_demo[2:,:]\n",
    "columns_name = [\"Item Number\", \"Corresponding Author\", \"Year of Publication\", \"Article Title\", \"Journal Name\"]\n",
    "sel_col_indx_demo = [np.where(coulmns_demo==to_be) for to_be in columns_name]\n",
    "sel_col_indx_demo = np.squeeze(sel_col_indx_demo)\n",
    "sel_col_indx_demo = np.squeeze(sel_col_indx_demo)\n",
    "\n",
    "selected_demo1 = df1_demo[selected_rows1[0],:]\n",
    "selected_demo1 = selected_demo1[:,sel_col_indx_demo]\n",
    "\n",
    "\n",
    "sol1_column1 = np.where(coulmns_Extraction == \"Solution 1\")\n",
    "sol1_answers = selected_Extraction[:,sol1_column1[0][0]]\n",
    "\n",
    "sol2_column1 = np.where(coulmns_Extraction == \"Solution 2\")\n",
    "sol2_answers = selected_Extraction[:,sol2_column1[0][0]]\n",
    "\n",
    "sol3_column1 = np.where(coulmns_Extraction == \"Solution 3\")\n",
    "sol3_answers = selected_Extraction[:,sol3_column1[0][0]]\n",
    "\n",
    "sol1_idn_answers = list(set(sol1_answers))\n",
    "sol2_idn_answers = list(set(sol2_answers))\n",
    "sol3_idn_answers = list(set(sol3_answers))\n",
    "\n",
    "\n",
    "corrs_author =  \"Corresp. Author (Host Faculty)\"\n",
    "corrs_author_column = np.where(coulmns_demo == corrs_author)\n",
    "corrs_column = df1_demo[selected_rows1[0],:]\n",
    "corrs_column = corrs_column[:, corrs_author_column[0][0]]"
   ]
  },
  {
   "cell_type": "code",
   "execution_count": 11,
   "id": "c31aa79b",
   "metadata": {},
   "outputs": [],
   "source": [
    "def corresp_sorter(corr1, corr2, corr3):\n",
    "    idn_corrs = list(set(corrs_column))\n",
    "    total_corres1 = []\n",
    "    total_corres2 = []\n",
    "    total_corres3 = []\n",
    "    for c in idn_corrs:\n",
    "        spec_corr1 = np.where(corr1 == c)\n",
    "        total_corres1.append(spec_corr1)\n",
    "        spec_corr2 = np.where(corr2 == c)\n",
    "        total_corres2.append(spec_corr2)\n",
    "        spec_corr3 = np.where(corr3 == c)\n",
    "        total_corres3.append(spec_corr3)\n",
    "        \n",
    "        \n",
    "    return total_corres1, total_corres2, total_corres3, idn_corrs\n",
    "    "
   ]
  },
  {
   "cell_type": "code",
   "execution_count": 15,
   "id": "0493c79f",
   "metadata": {},
   "outputs": [],
   "source": [
    "for sol in sol1_idn_answers:\n",
    "    selected_rows1 = np.where(selected_Extraction[:,sol1_column1[0][0]] == sol)\n",
    "    selected_rows2 = np.where(selected_Extraction[:,sol2_column1[0][0]] == sol)\n",
    "    selected_rows3 = np.where(selected_Extraction[:,sol3_column1[0][0]] == sol)\n",
    "    if len(selected_rows1[0]) != 0:\n",
    "        desired_file_extracted1 = selected_Extraction[selected_rows1[0], sol1_column1[0][0] + 3]\n",
    "        desired_file_extracted2 = selected_Extraction[selected_rows2[0], sol2_column1[0][0] + 3]\n",
    "        desired_file_extracted3 = selected_Extraction[selected_rows3[0], sol3_column1[0][0] + 3]\n",
    "        \n",
    "        corr1 = corrs_column[selected_rows1[0]]\n",
    "        corr2 = corrs_column[selected_rows2[0]]\n",
    "        corr3 = corrs_column[selected_rows3[0]]\n",
    "        a,b,c,d = corresp_sorter(corr1, corr2, corr3)\n",
    "        \n",
    "        \n",
    "        \n",
    "        demo1 = selected_demo1[selected_rows1[0],:]\n",
    "        demo2 = selected_demo1[selected_rows2[0],:]\n",
    "        demo3 = selected_demo1[selected_rows3[0],:]\n",
    "        \n",
    "        doc = docx.Document()\n",
    "        new_paragraph1 = \" \"\n",
    "        doc.add_paragraph(new_paragraph1)\n",
    "        for i, cor in enumerate(d):\n",
    "            new_paragraph1 = str(cor) + \":  \"\n",
    "            doc.add_paragraph(new_paragraph1)\n",
    "            if len(a[i][0]) != 0:\n",
    "                for j, sub_cor in enumerate(a[i][0]):\n",
    "                    new_paragraph1 = \"  quotation: \" + str(desired_file_extracted1[sub_cor]) + \"  Corres author (host faculty): \" + str(corr1[sub_cor]) + \"  Item Number: \" + str(demo1[sub_cor, 0]) + \"  Corresponding Author: \" + str(demo1[sub_cor, 1]) + \"  Year of Publication: \" + str(demo1[sub_cor, 2]) + \"  Article Title: \" + str(demo1[sub_cor, 3]) + \"  Journal Name: \" + str(demo1[sub_cor, 4]) \n",
    "                    doc.add_paragraph(new_paragraph1)\n",
    "                    doc.add_paragraph(\"  ____________________________________________ sample ends here _____________________________\"  )\n",
    "                \n",
    "            if len(b[i][0]) != 0:\n",
    "                for j, sub_cor in enumerate(b[i][0]):\n",
    "                    new_paragraph2 = \"  quotation: \" + str(desired_file_extracted2[sub_cor]) + \"  Corres author (host faculty): \" + str(corr2[sub_cor]) + \"  Item Number: \" + str(demo2[sub_cor, 0]) + \"  Corresponding Author: \" + str(demo2[sub_cor, 1]) + \"  Year of Publication: \" + str(demo2[sub_cor, 2]) + \"  Article Title: \" + str(demo2[sub_cor, 3]) + \"  Journal Name: \" + str(demo2[sub_cor, 4])                                                                                                                                        \n",
    "                    doc.add_paragraph(new_paragraph2)\n",
    "                    doc.add_paragraph(\"  ____________________________________________ sample ends here _____________________________\"  )\n",
    "            if len(c[i][0]) != 0:\n",
    "                for j, sub_cor in enumerate(c[i][0]):\n",
    "                    new_paragraph3 = \"  quotation: \" + str(desired_file_extracted3[sub_cor]) + \"  Corres author (host faculty): \" + str(corr3[sub_cor]) + \"  Item Number: \" + str(demo3[sub_cor, 0]) + \"  Corresponding Author: \" + str(demo3[sub_cor, 1]) + \"  Year of Publication: \" + str(demo3[sub_cor, 2]) + \"  Article Title: \" + str(demo3[sub_cor, 3]) + \"  Journal Name: \" + str(demo3[sub_cor, 4]) \n",
    "                    doc.add_paragraph(new_paragraph3)\n",
    "                    doc.add_paragraph(\"  ____________________________________________ sample ends here _____________________________\"  )\n",
    "            \n",
    "            \n",
    "                \n",
    "\n",
    "        save_name = \"solution_{}.docx\".format(sol)\n",
    "        doc.save(save_name)\n",
    "        \n",
    "    \n",
    "    \n",
    "    "
   ]
  },
  {
   "cell_type": "code",
   "execution_count": 14,
   "id": "8c22d032",
   "metadata": {},
   "outputs": [
    {
     "data": {
      "text/plain": [
       "['Unknown',\n",
       " 'Other health professions (Dentistry, nutrition, etc.)',\n",
       " 'Nursing',\n",
       " 'Medicine',\n",
       " 'Public health',\n",
       " 'Computer science',\n",
       " 'Other',\n",
       " 'Law',\n",
       " 'Engineering',\n",
       " 'Pharmacy']"
      ]
     },
     "execution_count": 14,
     "metadata": {},
     "output_type": "execute_result"
    }
   ],
   "source": [
    "d"
   ]
  },
  {
   "cell_type": "code",
   "execution_count": 7,
   "id": "8508d55b",
   "metadata": {},
   "outputs": [
    {
     "data": {
      "text/plain": [
       "[(array([], dtype=int64),),\n",
       " (array([], dtype=int64),),\n",
       " (array([], dtype=int64),),\n",
       " (array([0, 1, 2, 3, 5], dtype=int64),),\n",
       " (array([], dtype=int64),),\n",
       " (array([], dtype=int64),),\n",
       " (array([], dtype=int64),),\n",
       " (array([], dtype=int64),),\n",
       " (array([4], dtype=int64),),\n",
       " (array([], dtype=int64),)]"
      ]
     },
     "execution_count": 7,
     "metadata": {},
     "output_type": "execute_result"
    }
   ],
   "source": [
    "b"
   ]
  },
  {
   "cell_type": "code",
   "execution_count": null,
   "id": "4d051dee",
   "metadata": {},
   "outputs": [],
   "source": []
  }
 ],
 "metadata": {
  "kernelspec": {
   "display_name": "ALL",
   "language": "python",
   "name": "all"
  },
  "language_info": {
   "codemirror_mode": {
    "name": "ipython",
    "version": 3
   },
   "file_extension": ".py",
   "mimetype": "text/x-python",
   "name": "python",
   "nbconvert_exporter": "python",
   "pygments_lexer": "ipython3",
   "version": "3.9.7"
  }
 },
 "nbformat": 4,
 "nbformat_minor": 5
}
